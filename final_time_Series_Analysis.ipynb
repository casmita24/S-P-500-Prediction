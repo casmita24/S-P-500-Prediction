{
  "cells": [
    {
      "cell_type": "markdown",
      "metadata": {
        "id": "zWBlMYCm_--J"
      },
      "source": [
        "## **Installing Required Libraries**"
      ]
    },
    {
      "cell_type": "code",
      "execution_count": 56,
      "metadata": {
        "id": "vrK8Kh-d_oFV"
      },
      "outputs": [],
      "source": [
        "import pandas as pd\n",
        "import numpy as np\n",
        "import tensorflow as tf\n",
        "import matplotlib.pyplot as plt\n",
        "import matplotlib.dates as mdates\n",
        "\n",
        "from tensorflow.keras import layers\n",
        "from tensorflow.keras import Sequential\n",
        "\n",
        "from sklearn.preprocessing import MinMaxScaler\n",
        "from sklearn.metrics import r2_score"
      ]
    },
    {
      "cell_type": "markdown",
      "metadata": {
        "id": "DdU6_Fy6AWmO"
      },
      "source": [
        "## **Data Wrangling and Exploration**"
      ]
    },
    {
      "cell_type": "code",
      "execution_count": 57,
      "metadata": {
        "colab": {
          "base_uri": "https://localhost:8080/"
        },
        "id": "7PyQDlXrAUtt",
        "outputId": "bb160e4a-8198-48cd-e836-2595a7676a16"
      },
      "outputs": [
        {
          "output_type": "stream",
          "name": "stdout",
          "text": [
            "columns:  Index(['Date', 'High', 'Low', 'Open', 'Close', 'Volume', 'Adj Close'], dtype='object')\n",
            "\n",
            "First 5 rows:           Date         High          Low         Open        Close  \\\n",
            "0  2015-11-23  2095.610107  2081.389893  2089.409912  2086.590088   \n",
            "1  2015-11-24  2094.120117  2070.290039  2084.419922  2089.139893   \n",
            "2  2015-11-25  2093.000000  2086.300049  2089.300049  2088.870117   \n",
            "3  2015-11-26  2093.000000  2086.300049  2089.300049  2088.870117   \n",
            "4  2015-11-27  2093.290039  2084.129883  2088.820068  2090.110107   \n",
            "\n",
            "         Volume    Adj Close  \n",
            "0  3.587980e+09  2086.590088  \n",
            "1  3.884930e+09  2089.139893  \n",
            "2  2.852940e+09  2088.870117  \n",
            "3  2.852940e+09  2088.870117  \n",
            "4  1.466840e+09  2090.110107  \n",
            "\n",
            "Dataset Shape:  (1825, 7)\n"
          ]
        }
      ],
      "source": [
        "df = pd.read_csv('yahoo_stock.csv')\n",
        "print('columns: ',df.columns)\n",
        "print('\\nFirst 5 rows: ', df.head())\n",
        "print('\\nDataset Shape: ', df.shape)\n"
      ]
    },
    {
      "cell_type": "markdown",
      "metadata": {
        "id": "Ca7wWKO6HcRd"
      },
      "source": [
        "- This dataset has 1825 rows and 7 coulmns.\n",
        "- Columns of dataset are: Date, High, Low, Open, Close, Adj Close"
      ]
    },
    {
      "cell_type": "code",
      "source": [
        "df.corr()"
      ],
      "metadata": {
        "colab": {
          "base_uri": "https://localhost:8080/",
          "height": 292
        },
        "id": "QbnH68S2iTQf",
        "outputId": "25833634-5fd6-4765-b5af-50021036c925"
      },
      "execution_count": 58,
      "outputs": [
        {
          "output_type": "stream",
          "name": "stderr",
          "text": [
            "<ipython-input-58-2f6f6606aa2c>:1: FutureWarning: The default value of numeric_only in DataFrame.corr is deprecated. In a future version, it will default to False. Select only valid columns or specify the value of numeric_only to silence this warning.\n",
            "  df.corr()\n"
          ]
        },
        {
          "output_type": "execute_result",
          "data": {
            "text/plain": [
              "               High       Low      Open     Close    Volume  Adj Close\n",
              "High       1.000000  0.998154  0.999328  0.998958  0.084212   0.998958\n",
              "Low        0.998154  1.000000  0.998794  0.999020  0.044557   0.999020\n",
              "Open       0.999328  0.998794  1.000000  0.998344  0.069729   0.998344\n",
              "Close      0.998958  0.999020  0.998344  1.000000  0.063401   1.000000\n",
              "Volume     0.084212  0.044557  0.069729  0.063401  1.000000   0.063401\n",
              "Adj Close  0.998958  0.999020  0.998344  1.000000  0.063401   1.000000"
            ],
            "text/html": [
              "\n",
              "  <div id=\"df-9e1cb4ef-c93e-4e94-9087-fcbd06f35c8a\" class=\"colab-df-container\">\n",
              "    <div>\n",
              "<style scoped>\n",
              "    .dataframe tbody tr th:only-of-type {\n",
              "        vertical-align: middle;\n",
              "    }\n",
              "\n",
              "    .dataframe tbody tr th {\n",
              "        vertical-align: top;\n",
              "    }\n",
              "\n",
              "    .dataframe thead th {\n",
              "        text-align: right;\n",
              "    }\n",
              "</style>\n",
              "<table border=\"1\" class=\"dataframe\">\n",
              "  <thead>\n",
              "    <tr style=\"text-align: right;\">\n",
              "      <th></th>\n",
              "      <th>High</th>\n",
              "      <th>Low</th>\n",
              "      <th>Open</th>\n",
              "      <th>Close</th>\n",
              "      <th>Volume</th>\n",
              "      <th>Adj Close</th>\n",
              "    </tr>\n",
              "  </thead>\n",
              "  <tbody>\n",
              "    <tr>\n",
              "      <th>High</th>\n",
              "      <td>1.000000</td>\n",
              "      <td>0.998154</td>\n",
              "      <td>0.999328</td>\n",
              "      <td>0.998958</td>\n",
              "      <td>0.084212</td>\n",
              "      <td>0.998958</td>\n",
              "    </tr>\n",
              "    <tr>\n",
              "      <th>Low</th>\n",
              "      <td>0.998154</td>\n",
              "      <td>1.000000</td>\n",
              "      <td>0.998794</td>\n",
              "      <td>0.999020</td>\n",
              "      <td>0.044557</td>\n",
              "      <td>0.999020</td>\n",
              "    </tr>\n",
              "    <tr>\n",
              "      <th>Open</th>\n",
              "      <td>0.999328</td>\n",
              "      <td>0.998794</td>\n",
              "      <td>1.000000</td>\n",
              "      <td>0.998344</td>\n",
              "      <td>0.069729</td>\n",
              "      <td>0.998344</td>\n",
              "    </tr>\n",
              "    <tr>\n",
              "      <th>Close</th>\n",
              "      <td>0.998958</td>\n",
              "      <td>0.999020</td>\n",
              "      <td>0.998344</td>\n",
              "      <td>1.000000</td>\n",
              "      <td>0.063401</td>\n",
              "      <td>1.000000</td>\n",
              "    </tr>\n",
              "    <tr>\n",
              "      <th>Volume</th>\n",
              "      <td>0.084212</td>\n",
              "      <td>0.044557</td>\n",
              "      <td>0.069729</td>\n",
              "      <td>0.063401</td>\n",
              "      <td>1.000000</td>\n",
              "      <td>0.063401</td>\n",
              "    </tr>\n",
              "    <tr>\n",
              "      <th>Adj Close</th>\n",
              "      <td>0.998958</td>\n",
              "      <td>0.999020</td>\n",
              "      <td>0.998344</td>\n",
              "      <td>1.000000</td>\n",
              "      <td>0.063401</td>\n",
              "      <td>1.000000</td>\n",
              "    </tr>\n",
              "  </tbody>\n",
              "</table>\n",
              "</div>\n",
              "    <div class=\"colab-df-buttons\">\n",
              "\n",
              "  <div class=\"colab-df-container\">\n",
              "    <button class=\"colab-df-convert\" onclick=\"convertToInteractive('df-9e1cb4ef-c93e-4e94-9087-fcbd06f35c8a')\"\n",
              "            title=\"Convert this dataframe to an interactive table.\"\n",
              "            style=\"display:none;\">\n",
              "\n",
              "  <svg xmlns=\"http://www.w3.org/2000/svg\" height=\"24px\" viewBox=\"0 -960 960 960\">\n",
              "    <path d=\"M120-120v-720h720v720H120Zm60-500h600v-160H180v160Zm220 220h160v-160H400v160Zm0 220h160v-160H400v160ZM180-400h160v-160H180v160Zm440 0h160v-160H620v160ZM180-180h160v-160H180v160Zm440 0h160v-160H620v160Z\"/>\n",
              "  </svg>\n",
              "    </button>\n",
              "\n",
              "  <style>\n",
              "    .colab-df-container {\n",
              "      display:flex;\n",
              "      gap: 12px;\n",
              "    }\n",
              "\n",
              "    .colab-df-convert {\n",
              "      background-color: #E8F0FE;\n",
              "      border: none;\n",
              "      border-radius: 50%;\n",
              "      cursor: pointer;\n",
              "      display: none;\n",
              "      fill: #1967D2;\n",
              "      height: 32px;\n",
              "      padding: 0 0 0 0;\n",
              "      width: 32px;\n",
              "    }\n",
              "\n",
              "    .colab-df-convert:hover {\n",
              "      background-color: #E2EBFA;\n",
              "      box-shadow: 0px 1px 2px rgba(60, 64, 67, 0.3), 0px 1px 3px 1px rgba(60, 64, 67, 0.15);\n",
              "      fill: #174EA6;\n",
              "    }\n",
              "\n",
              "    .colab-df-buttons div {\n",
              "      margin-bottom: 4px;\n",
              "    }\n",
              "\n",
              "    [theme=dark] .colab-df-convert {\n",
              "      background-color: #3B4455;\n",
              "      fill: #D2E3FC;\n",
              "    }\n",
              "\n",
              "    [theme=dark] .colab-df-convert:hover {\n",
              "      background-color: #434B5C;\n",
              "      box-shadow: 0px 1px 3px 1px rgba(0, 0, 0, 0.15);\n",
              "      filter: drop-shadow(0px 1px 2px rgba(0, 0, 0, 0.3));\n",
              "      fill: #FFFFFF;\n",
              "    }\n",
              "  </style>\n",
              "\n",
              "    <script>\n",
              "      const buttonEl =\n",
              "        document.querySelector('#df-9e1cb4ef-c93e-4e94-9087-fcbd06f35c8a button.colab-df-convert');\n",
              "      buttonEl.style.display =\n",
              "        google.colab.kernel.accessAllowed ? 'block' : 'none';\n",
              "\n",
              "      async function convertToInteractive(key) {\n",
              "        const element = document.querySelector('#df-9e1cb4ef-c93e-4e94-9087-fcbd06f35c8a');\n",
              "        const dataTable =\n",
              "          await google.colab.kernel.invokeFunction('convertToInteractive',\n",
              "                                                    [key], {});\n",
              "        if (!dataTable) return;\n",
              "\n",
              "        const docLinkHtml = 'Like what you see? Visit the ' +\n",
              "          '<a target=\"_blank\" href=https://colab.research.google.com/notebooks/data_table.ipynb>data table notebook</a>'\n",
              "          + ' to learn more about interactive tables.';\n",
              "        element.innerHTML = '';\n",
              "        dataTable['output_type'] = 'display_data';\n",
              "        await google.colab.output.renderOutput(dataTable, element);\n",
              "        const docLink = document.createElement('div');\n",
              "        docLink.innerHTML = docLinkHtml;\n",
              "        element.appendChild(docLink);\n",
              "      }\n",
              "    </script>\n",
              "  </div>\n",
              "\n",
              "\n",
              "<div id=\"df-01582c01-7a20-44ad-867c-b895bed240b4\">\n",
              "  <button class=\"colab-df-quickchart\" onclick=\"quickchart('df-01582c01-7a20-44ad-867c-b895bed240b4')\"\n",
              "            title=\"Suggest charts\"\n",
              "            style=\"display:none;\">\n",
              "\n",
              "<svg xmlns=\"http://www.w3.org/2000/svg\" height=\"24px\"viewBox=\"0 0 24 24\"\n",
              "     width=\"24px\">\n",
              "    <g>\n",
              "        <path d=\"M19 3H5c-1.1 0-2 .9-2 2v14c0 1.1.9 2 2 2h14c1.1 0 2-.9 2-2V5c0-1.1-.9-2-2-2zM9 17H7v-7h2v7zm4 0h-2V7h2v10zm4 0h-2v-4h2v4z\"/>\n",
              "    </g>\n",
              "</svg>\n",
              "  </button>\n",
              "\n",
              "<style>\n",
              "  .colab-df-quickchart {\n",
              "      --bg-color: #E8F0FE;\n",
              "      --fill-color: #1967D2;\n",
              "      --hover-bg-color: #E2EBFA;\n",
              "      --hover-fill-color: #174EA6;\n",
              "      --disabled-fill-color: #AAA;\n",
              "      --disabled-bg-color: #DDD;\n",
              "  }\n",
              "\n",
              "  [theme=dark] .colab-df-quickchart {\n",
              "      --bg-color: #3B4455;\n",
              "      --fill-color: #D2E3FC;\n",
              "      --hover-bg-color: #434B5C;\n",
              "      --hover-fill-color: #FFFFFF;\n",
              "      --disabled-bg-color: #3B4455;\n",
              "      --disabled-fill-color: #666;\n",
              "  }\n",
              "\n",
              "  .colab-df-quickchart {\n",
              "    background-color: var(--bg-color);\n",
              "    border: none;\n",
              "    border-radius: 50%;\n",
              "    cursor: pointer;\n",
              "    display: none;\n",
              "    fill: var(--fill-color);\n",
              "    height: 32px;\n",
              "    padding: 0;\n",
              "    width: 32px;\n",
              "  }\n",
              "\n",
              "  .colab-df-quickchart:hover {\n",
              "    background-color: var(--hover-bg-color);\n",
              "    box-shadow: 0 1px 2px rgba(60, 64, 67, 0.3), 0 1px 3px 1px rgba(60, 64, 67, 0.15);\n",
              "    fill: var(--button-hover-fill-color);\n",
              "  }\n",
              "\n",
              "  .colab-df-quickchart-complete:disabled,\n",
              "  .colab-df-quickchart-complete:disabled:hover {\n",
              "    background-color: var(--disabled-bg-color);\n",
              "    fill: var(--disabled-fill-color);\n",
              "    box-shadow: none;\n",
              "  }\n",
              "\n",
              "  .colab-df-spinner {\n",
              "    border: 2px solid var(--fill-color);\n",
              "    border-color: transparent;\n",
              "    border-bottom-color: var(--fill-color);\n",
              "    animation:\n",
              "      spin 1s steps(1) infinite;\n",
              "  }\n",
              "\n",
              "  @keyframes spin {\n",
              "    0% {\n",
              "      border-color: transparent;\n",
              "      border-bottom-color: var(--fill-color);\n",
              "      border-left-color: var(--fill-color);\n",
              "    }\n",
              "    20% {\n",
              "      border-color: transparent;\n",
              "      border-left-color: var(--fill-color);\n",
              "      border-top-color: var(--fill-color);\n",
              "    }\n",
              "    30% {\n",
              "      border-color: transparent;\n",
              "      border-left-color: var(--fill-color);\n",
              "      border-top-color: var(--fill-color);\n",
              "      border-right-color: var(--fill-color);\n",
              "    }\n",
              "    40% {\n",
              "      border-color: transparent;\n",
              "      border-right-color: var(--fill-color);\n",
              "      border-top-color: var(--fill-color);\n",
              "    }\n",
              "    60% {\n",
              "      border-color: transparent;\n",
              "      border-right-color: var(--fill-color);\n",
              "    }\n",
              "    80% {\n",
              "      border-color: transparent;\n",
              "      border-right-color: var(--fill-color);\n",
              "      border-bottom-color: var(--fill-color);\n",
              "    }\n",
              "    90% {\n",
              "      border-color: transparent;\n",
              "      border-bottom-color: var(--fill-color);\n",
              "    }\n",
              "  }\n",
              "</style>\n",
              "\n",
              "  <script>\n",
              "    async function quickchart(key) {\n",
              "      const quickchartButtonEl =\n",
              "        document.querySelector('#' + key + ' button');\n",
              "      quickchartButtonEl.disabled = true;  // To prevent multiple clicks.\n",
              "      quickchartButtonEl.classList.add('colab-df-spinner');\n",
              "      try {\n",
              "        const charts = await google.colab.kernel.invokeFunction(\n",
              "            'suggestCharts', [key], {});\n",
              "      } catch (error) {\n",
              "        console.error('Error during call to suggestCharts:', error);\n",
              "      }\n",
              "      quickchartButtonEl.classList.remove('colab-df-spinner');\n",
              "      quickchartButtonEl.classList.add('colab-df-quickchart-complete');\n",
              "    }\n",
              "    (() => {\n",
              "      let quickchartButtonEl =\n",
              "        document.querySelector('#df-01582c01-7a20-44ad-867c-b895bed240b4 button');\n",
              "      quickchartButtonEl.style.display =\n",
              "        google.colab.kernel.accessAllowed ? 'block' : 'none';\n",
              "    })();\n",
              "  </script>\n",
              "</div>\n",
              "\n",
              "    </div>\n",
              "  </div>\n"
            ],
            "application/vnd.google.colaboratory.intrinsic+json": {
              "type": "dataframe",
              "summary": "{\n  \"name\": \"df\",\n  \"rows\": 6,\n  \"fields\": [\n    {\n      \"column\": \"High\",\n      \"properties\": {\n        \"dtype\": \"number\",\n        \"std\": 0.37349369982128117,\n        \"min\": 0.0842119015941179,\n        \"max\": 1.0,\n        \"num_unique_values\": 5,\n        \"samples\": [\n          0.9981539310855402,\n          0.0842119015941179,\n          0.9993281116171788\n        ],\n        \"semantic_type\": \"\",\n        \"description\": \"\"\n      }\n    },\n    {\n      \"column\": \"Low\",\n      \"properties\": {\n        \"dtype\": \"number\",\n        \"std\": 0.38964932995478535,\n        \"min\": 0.04455660266288977,\n        \"max\": 1.0,\n        \"num_unique_values\": 5,\n        \"samples\": [\n          1.0,\n          0.04455660266288977,\n          0.998793940119066\n        ],\n        \"semantic_type\": \"\",\n        \"description\": \"\"\n      }\n    },\n    {\n      \"column\": \"Open\",\n      \"properties\": {\n        \"dtype\": \"number\",\n        \"std\": 0.37935836936850215,\n        \"min\": 0.06972892594282959,\n        \"max\": 1.0,\n        \"num_unique_values\": 5,\n        \"samples\": [\n          0.998793940119066,\n          0.06972892594282959,\n          1.0\n        ],\n        \"semantic_type\": \"\",\n        \"description\": \"\"\n      }\n    },\n    {\n      \"column\": \"Close\",\n      \"properties\": {\n        \"dtype\": \"number\",\n        \"std\": 0.3820652641674193,\n        \"min\": 0.06340084891729204,\n        \"max\": 1.0,\n        \"num_unique_values\": 5,\n        \"samples\": [\n          0.999019899041269,\n          0.06340084891729204,\n          0.9983441418373097\n        ],\n        \"semantic_type\": \"\",\n        \"description\": \"\"\n      }\n    },\n    {\n      \"column\": \"Volume\",\n      \"properties\": {\n        \"dtype\": \"number\",\n        \"std\": 0.38190105973916777,\n        \"min\": 0.04455660266288977,\n        \"max\": 1.0,\n        \"num_unique_values\": 6,\n        \"samples\": [\n          0.0842119015941179,\n          0.04455660266288977,\n          0.06340084891729203\n        ],\n        \"semantic_type\": \"\",\n        \"description\": \"\"\n      }\n    },\n    {\n      \"column\": \"Adj Close\",\n      \"properties\": {\n        \"dtype\": \"number\",\n        \"std\": 0.3820652641674193,\n        \"min\": 0.06340084891729203,\n        \"max\": 1.0,\n        \"num_unique_values\": 5,\n        \"samples\": [\n          0.999019899041269,\n          0.06340084891729203,\n          0.9983441418373097\n        ],\n        \"semantic_type\": \"\",\n        \"description\": \"\"\n      }\n    }\n  ]\n}"
            }
          },
          "metadata": {},
          "execution_count": 58
        }
      ]
    },
    {
      "cell_type": "markdown",
      "source": [
        "Volume column has very less correlation with all other columns. So, dropping this column won't affect the result."
      ],
      "metadata": {
        "id": "mgWtT5NkizIb"
      }
    },
    {
      "cell_type": "code",
      "execution_count": 59,
      "metadata": {
        "colab": {
          "base_uri": "https://localhost:8080/",
          "height": 237
        },
        "id": "a7DZvLBPCpqO",
        "outputId": "5460c480-c297-4c2b-facf-fd67e367d941"
      },
      "outputs": [
        {
          "output_type": "execute_result",
          "data": {
            "text/plain": [
              "                   High          Low         Open        Close    Adj Close\n",
              "Date                                                                       \n",
              "2015-11-23  2095.610107  2081.389893  2089.409912  2086.590088  2086.590088\n",
              "2015-11-24  2094.120117  2070.290039  2084.419922  2089.139893  2089.139893\n",
              "2015-11-25  2093.000000  2086.300049  2089.300049  2088.870117  2088.870117\n",
              "2015-11-26  2093.000000  2086.300049  2089.300049  2088.870117  2088.870117\n",
              "2015-11-27  2093.290039  2084.129883  2088.820068  2090.110107  2090.110107"
            ],
            "text/html": [
              "\n",
              "  <div id=\"df-24c3f8ab-4e1d-4a23-a778-9ca7f463ffb5\" class=\"colab-df-container\">\n",
              "    <div>\n",
              "<style scoped>\n",
              "    .dataframe tbody tr th:only-of-type {\n",
              "        vertical-align: middle;\n",
              "    }\n",
              "\n",
              "    .dataframe tbody tr th {\n",
              "        vertical-align: top;\n",
              "    }\n",
              "\n",
              "    .dataframe thead th {\n",
              "        text-align: right;\n",
              "    }\n",
              "</style>\n",
              "<table border=\"1\" class=\"dataframe\">\n",
              "  <thead>\n",
              "    <tr style=\"text-align: right;\">\n",
              "      <th></th>\n",
              "      <th>High</th>\n",
              "      <th>Low</th>\n",
              "      <th>Open</th>\n",
              "      <th>Close</th>\n",
              "      <th>Adj Close</th>\n",
              "    </tr>\n",
              "    <tr>\n",
              "      <th>Date</th>\n",
              "      <th></th>\n",
              "      <th></th>\n",
              "      <th></th>\n",
              "      <th></th>\n",
              "      <th></th>\n",
              "    </tr>\n",
              "  </thead>\n",
              "  <tbody>\n",
              "    <tr>\n",
              "      <th>2015-11-23</th>\n",
              "      <td>2095.610107</td>\n",
              "      <td>2081.389893</td>\n",
              "      <td>2089.409912</td>\n",
              "      <td>2086.590088</td>\n",
              "      <td>2086.590088</td>\n",
              "    </tr>\n",
              "    <tr>\n",
              "      <th>2015-11-24</th>\n",
              "      <td>2094.120117</td>\n",
              "      <td>2070.290039</td>\n",
              "      <td>2084.419922</td>\n",
              "      <td>2089.139893</td>\n",
              "      <td>2089.139893</td>\n",
              "    </tr>\n",
              "    <tr>\n",
              "      <th>2015-11-25</th>\n",
              "      <td>2093.000000</td>\n",
              "      <td>2086.300049</td>\n",
              "      <td>2089.300049</td>\n",
              "      <td>2088.870117</td>\n",
              "      <td>2088.870117</td>\n",
              "    </tr>\n",
              "    <tr>\n",
              "      <th>2015-11-26</th>\n",
              "      <td>2093.000000</td>\n",
              "      <td>2086.300049</td>\n",
              "      <td>2089.300049</td>\n",
              "      <td>2088.870117</td>\n",
              "      <td>2088.870117</td>\n",
              "    </tr>\n",
              "    <tr>\n",
              "      <th>2015-11-27</th>\n",
              "      <td>2093.290039</td>\n",
              "      <td>2084.129883</td>\n",
              "      <td>2088.820068</td>\n",
              "      <td>2090.110107</td>\n",
              "      <td>2090.110107</td>\n",
              "    </tr>\n",
              "  </tbody>\n",
              "</table>\n",
              "</div>\n",
              "    <div class=\"colab-df-buttons\">\n",
              "\n",
              "  <div class=\"colab-df-container\">\n",
              "    <button class=\"colab-df-convert\" onclick=\"convertToInteractive('df-24c3f8ab-4e1d-4a23-a778-9ca7f463ffb5')\"\n",
              "            title=\"Convert this dataframe to an interactive table.\"\n",
              "            style=\"display:none;\">\n",
              "\n",
              "  <svg xmlns=\"http://www.w3.org/2000/svg\" height=\"24px\" viewBox=\"0 -960 960 960\">\n",
              "    <path d=\"M120-120v-720h720v720H120Zm60-500h600v-160H180v160Zm220 220h160v-160H400v160Zm0 220h160v-160H400v160ZM180-400h160v-160H180v160Zm440 0h160v-160H620v160ZM180-180h160v-160H180v160Zm440 0h160v-160H620v160Z\"/>\n",
              "  </svg>\n",
              "    </button>\n",
              "\n",
              "  <style>\n",
              "    .colab-df-container {\n",
              "      display:flex;\n",
              "      gap: 12px;\n",
              "    }\n",
              "\n",
              "    .colab-df-convert {\n",
              "      background-color: #E8F0FE;\n",
              "      border: none;\n",
              "      border-radius: 50%;\n",
              "      cursor: pointer;\n",
              "      display: none;\n",
              "      fill: #1967D2;\n",
              "      height: 32px;\n",
              "      padding: 0 0 0 0;\n",
              "      width: 32px;\n",
              "    }\n",
              "\n",
              "    .colab-df-convert:hover {\n",
              "      background-color: #E2EBFA;\n",
              "      box-shadow: 0px 1px 2px rgba(60, 64, 67, 0.3), 0px 1px 3px 1px rgba(60, 64, 67, 0.15);\n",
              "      fill: #174EA6;\n",
              "    }\n",
              "\n",
              "    .colab-df-buttons div {\n",
              "      margin-bottom: 4px;\n",
              "    }\n",
              "\n",
              "    [theme=dark] .colab-df-convert {\n",
              "      background-color: #3B4455;\n",
              "      fill: #D2E3FC;\n",
              "    }\n",
              "\n",
              "    [theme=dark] .colab-df-convert:hover {\n",
              "      background-color: #434B5C;\n",
              "      box-shadow: 0px 1px 3px 1px rgba(0, 0, 0, 0.15);\n",
              "      filter: drop-shadow(0px 1px 2px rgba(0, 0, 0, 0.3));\n",
              "      fill: #FFFFFF;\n",
              "    }\n",
              "  </style>\n",
              "\n",
              "    <script>\n",
              "      const buttonEl =\n",
              "        document.querySelector('#df-24c3f8ab-4e1d-4a23-a778-9ca7f463ffb5 button.colab-df-convert');\n",
              "      buttonEl.style.display =\n",
              "        google.colab.kernel.accessAllowed ? 'block' : 'none';\n",
              "\n",
              "      async function convertToInteractive(key) {\n",
              "        const element = document.querySelector('#df-24c3f8ab-4e1d-4a23-a778-9ca7f463ffb5');\n",
              "        const dataTable =\n",
              "          await google.colab.kernel.invokeFunction('convertToInteractive',\n",
              "                                                    [key], {});\n",
              "        if (!dataTable) return;\n",
              "\n",
              "        const docLinkHtml = 'Like what you see? Visit the ' +\n",
              "          '<a target=\"_blank\" href=https://colab.research.google.com/notebooks/data_table.ipynb>data table notebook</a>'\n",
              "          + ' to learn more about interactive tables.';\n",
              "        element.innerHTML = '';\n",
              "        dataTable['output_type'] = 'display_data';\n",
              "        await google.colab.output.renderOutput(dataTable, element);\n",
              "        const docLink = document.createElement('div');\n",
              "        docLink.innerHTML = docLinkHtml;\n",
              "        element.appendChild(docLink);\n",
              "      }\n",
              "    </script>\n",
              "  </div>\n",
              "\n",
              "\n",
              "<div id=\"df-841a73ff-e63f-4dc9-9cbb-4a0f546abcad\">\n",
              "  <button class=\"colab-df-quickchart\" onclick=\"quickchart('df-841a73ff-e63f-4dc9-9cbb-4a0f546abcad')\"\n",
              "            title=\"Suggest charts\"\n",
              "            style=\"display:none;\">\n",
              "\n",
              "<svg xmlns=\"http://www.w3.org/2000/svg\" height=\"24px\"viewBox=\"0 0 24 24\"\n",
              "     width=\"24px\">\n",
              "    <g>\n",
              "        <path d=\"M19 3H5c-1.1 0-2 .9-2 2v14c0 1.1.9 2 2 2h14c1.1 0 2-.9 2-2V5c0-1.1-.9-2-2-2zM9 17H7v-7h2v7zm4 0h-2V7h2v10zm4 0h-2v-4h2v4z\"/>\n",
              "    </g>\n",
              "</svg>\n",
              "  </button>\n",
              "\n",
              "<style>\n",
              "  .colab-df-quickchart {\n",
              "      --bg-color: #E8F0FE;\n",
              "      --fill-color: #1967D2;\n",
              "      --hover-bg-color: #E2EBFA;\n",
              "      --hover-fill-color: #174EA6;\n",
              "      --disabled-fill-color: #AAA;\n",
              "      --disabled-bg-color: #DDD;\n",
              "  }\n",
              "\n",
              "  [theme=dark] .colab-df-quickchart {\n",
              "      --bg-color: #3B4455;\n",
              "      --fill-color: #D2E3FC;\n",
              "      --hover-bg-color: #434B5C;\n",
              "      --hover-fill-color: #FFFFFF;\n",
              "      --disabled-bg-color: #3B4455;\n",
              "      --disabled-fill-color: #666;\n",
              "  }\n",
              "\n",
              "  .colab-df-quickchart {\n",
              "    background-color: var(--bg-color);\n",
              "    border: none;\n",
              "    border-radius: 50%;\n",
              "    cursor: pointer;\n",
              "    display: none;\n",
              "    fill: var(--fill-color);\n",
              "    height: 32px;\n",
              "    padding: 0;\n",
              "    width: 32px;\n",
              "  }\n",
              "\n",
              "  .colab-df-quickchart:hover {\n",
              "    background-color: var(--hover-bg-color);\n",
              "    box-shadow: 0 1px 2px rgba(60, 64, 67, 0.3), 0 1px 3px 1px rgba(60, 64, 67, 0.15);\n",
              "    fill: var(--button-hover-fill-color);\n",
              "  }\n",
              "\n",
              "  .colab-df-quickchart-complete:disabled,\n",
              "  .colab-df-quickchart-complete:disabled:hover {\n",
              "    background-color: var(--disabled-bg-color);\n",
              "    fill: var(--disabled-fill-color);\n",
              "    box-shadow: none;\n",
              "  }\n",
              "\n",
              "  .colab-df-spinner {\n",
              "    border: 2px solid var(--fill-color);\n",
              "    border-color: transparent;\n",
              "    border-bottom-color: var(--fill-color);\n",
              "    animation:\n",
              "      spin 1s steps(1) infinite;\n",
              "  }\n",
              "\n",
              "  @keyframes spin {\n",
              "    0% {\n",
              "      border-color: transparent;\n",
              "      border-bottom-color: var(--fill-color);\n",
              "      border-left-color: var(--fill-color);\n",
              "    }\n",
              "    20% {\n",
              "      border-color: transparent;\n",
              "      border-left-color: var(--fill-color);\n",
              "      border-top-color: var(--fill-color);\n",
              "    }\n",
              "    30% {\n",
              "      border-color: transparent;\n",
              "      border-left-color: var(--fill-color);\n",
              "      border-top-color: var(--fill-color);\n",
              "      border-right-color: var(--fill-color);\n",
              "    }\n",
              "    40% {\n",
              "      border-color: transparent;\n",
              "      border-right-color: var(--fill-color);\n",
              "      border-top-color: var(--fill-color);\n",
              "    }\n",
              "    60% {\n",
              "      border-color: transparent;\n",
              "      border-right-color: var(--fill-color);\n",
              "    }\n",
              "    80% {\n",
              "      border-color: transparent;\n",
              "      border-right-color: var(--fill-color);\n",
              "      border-bottom-color: var(--fill-color);\n",
              "    }\n",
              "    90% {\n",
              "      border-color: transparent;\n",
              "      border-bottom-color: var(--fill-color);\n",
              "    }\n",
              "  }\n",
              "</style>\n",
              "\n",
              "  <script>\n",
              "    async function quickchart(key) {\n",
              "      const quickchartButtonEl =\n",
              "        document.querySelector('#' + key + ' button');\n",
              "      quickchartButtonEl.disabled = true;  // To prevent multiple clicks.\n",
              "      quickchartButtonEl.classList.add('colab-df-spinner');\n",
              "      try {\n",
              "        const charts = await google.colab.kernel.invokeFunction(\n",
              "            'suggestCharts', [key], {});\n",
              "      } catch (error) {\n",
              "        console.error('Error during call to suggestCharts:', error);\n",
              "      }\n",
              "      quickchartButtonEl.classList.remove('colab-df-spinner');\n",
              "      quickchartButtonEl.classList.add('colab-df-quickchart-complete');\n",
              "    }\n",
              "    (() => {\n",
              "      let quickchartButtonEl =\n",
              "        document.querySelector('#df-841a73ff-e63f-4dc9-9cbb-4a0f546abcad button');\n",
              "      quickchartButtonEl.style.display =\n",
              "        google.colab.kernel.accessAllowed ? 'block' : 'none';\n",
              "    })();\n",
              "  </script>\n",
              "</div>\n",
              "\n",
              "    </div>\n",
              "  </div>\n"
            ],
            "application/vnd.google.colaboratory.intrinsic+json": {
              "type": "dataframe",
              "variable_name": "df",
              "summary": "{\n  \"name\": \"df\",\n  \"rows\": 1825,\n  \"fields\": [\n    {\n      \"column\": \"Date\",\n      \"properties\": {\n        \"dtype\": \"object\",\n        \"num_unique_values\": 1825,\n        \"samples\": [\n          \"2017-05-31\",\n          \"2020-09-01\",\n          \"2016-09-15\"\n        ],\n        \"semantic_type\": \"\",\n        \"description\": \"\"\n      }\n    },\n    {\n      \"column\": \"High\",\n      \"properties\": {\n        \"dtype\": \"number\",\n        \"std\": 409.68085292592116,\n        \"min\": 1847.0,\n        \"max\": 3645.989990234375,\n        \"num_unique_values\": 1252,\n        \"samples\": [\n          2874.02001953125,\n          3486.25,\n          3136.719970703125\n        ],\n        \"semantic_type\": \"\",\n        \"description\": \"\"\n      }\n    },\n    {\n      \"column\": \"Low\",\n      \"properties\": {\n        \"dtype\": \"number\",\n        \"std\": 404.3100683842496,\n        \"min\": 1810.0999755859373,\n        \"max\": 3600.159912109375,\n        \"num_unique_values\": 1251,\n        \"samples\": [\n          2710.510009765625,\n          3557.0,\n          3034.3798828125\n        ],\n        \"semantic_type\": \"\",\n        \"description\": \"\"\n      }\n    },\n    {\n      \"column\": \"Open\",\n      \"properties\": {\n        \"dtype\": \"number\",\n        \"std\": 407.16999419082686,\n        \"min\": 1833.4000244140625,\n        \"max\": 3612.090087890625,\n        \"num_unique_values\": 1247,\n        \"samples\": [\n          2838.89990234375,\n          3071.0400390625,\n          2984.25\n        ],\n        \"semantic_type\": \"\",\n        \"description\": \"\"\n      }\n    },\n    {\n      \"column\": \"Close\",\n      \"properties\": {\n        \"dtype\": \"number\",\n        \"std\": 407.30117676380684,\n        \"min\": 1829.0799560546875,\n        \"max\": 3626.909912109375,\n        \"num_unique_values\": 1252,\n        \"samples\": [\n          2785.679931640625,\n          3443.43994140625,\n          3003.3701171875\n        ],\n        \"semantic_type\": \"\",\n        \"description\": \"\"\n      }\n    },\n    {\n      \"column\": \"Adj Close\",\n      \"properties\": {\n        \"dtype\": \"number\",\n        \"std\": 407.30117676380684,\n        \"min\": 1829.0799560546875,\n        \"max\": 3626.909912109375,\n        \"num_unique_values\": 1252,\n        \"samples\": [\n          2785.679931640625,\n          3443.43994140625,\n          3003.3701171875\n        ],\n        \"semantic_type\": \"\",\n        \"description\": \"\"\n      }\n    }\n  ]\n}"
            }
          },
          "metadata": {},
          "execution_count": 59
        }
      ],
      "source": [
        "# Dropping Volume Column\n",
        "df = df.drop('Volume', axis=1)\n",
        "\n",
        "df = df.sort_values('Date')\n",
        "df = df.set_index('Date')\n",
        "df.head()"
      ]
    },
    {
      "cell_type": "code",
      "execution_count": 60,
      "metadata": {
        "colab": {
          "base_uri": "https://localhost:8080/"
        },
        "id": "YZdOZnmCEHSk",
        "outputId": "4e4f7dcb-d8a7-439d-eebe-388d75801047"
      },
      "outputs": [
        {
          "output_type": "stream",
          "name": "stdout",
          "text": [
            "Missing Values: High         0\n",
            "Low          0\n",
            "Open         0\n",
            "Close        0\n",
            "Adj Close    0\n",
            "dtype: int64\n",
            "\n",
            "Outliers: High         0.086096\n",
            "Low          0.077569\n",
            "Open         0.085115\n",
            "Close        0.081869\n",
            "Adj Close    0.081869\n",
            "dtype: float64\n"
          ]
        }
      ],
      "source": [
        "print('Missing Values:', df.isna().sum())\n",
        "print('\\nOutliers:', df.skew())"
      ]
    },
    {
      "cell_type": "markdown",
      "metadata": {
        "id": "Aqt_URNFHv4u"
      },
      "source": [
        "- Dataset has no missing values.\n",
        "- Skewness of this dataset is very close to 0, thus has no outliers."
      ]
    },
    {
      "cell_type": "code",
      "execution_count": 61,
      "metadata": {
        "colab": {
          "base_uri": "https://localhost:8080/",
          "height": 484
        },
        "id": "0xLrXUVMF5nf",
        "outputId": "610e5ea1-c3f9-4889-cc0d-7ba0771007b3"
      },
      "outputs": [
        {
          "output_type": "execute_result",
          "data": {
            "text/plain": [
              "Text(0, 0.5, 'Adjusted Close')"
            ]
          },
          "metadata": {},
          "execution_count": 61
        },
        {
          "output_type": "display_data",
          "data": {
            "text/plain": [
              "<Figure size 640x480 with 1 Axes>"
            ],
            "image/png": "[encoded data removed]"
          },
          "metadata": {}
        }
      ],
      "source": [
        "# Plot the data\n",
        "plt.plot(df)\n",
        "\n",
        "# Add title and axis labels\n",
        "plt.title('S&P 500 Index')\n",
        "plt.xlabel('Date')\n",
        "plt.xticks(rotation=45)\n",
        "plt.gca().xaxis.set_major_locator(mdates.YearLocator())\n",
        "plt.gcf().autofmt_xdate()\n",
        "plt.ylabel('Adjusted Close')"
      ]
    },
    {
      "cell_type": "markdown",
      "metadata": {
        "id": "B527E8DYIkiS"
      },
      "source": [
        "## **Data Preprocessing**"
      ]
    },
    {
      "cell_type": "code",
      "execution_count": 62,
      "metadata": {
        "id": "bg8YD5qfInbD"
      },
      "outputs": [],
      "source": [
        "train_size = int(len(df)*0.50)\n",
        "validation_size = int(len(df)*0.25)\n",
        "\n",
        "# Split into train, validation, and test sets\n",
        "train_size = int(len(df) * 0.5)\n",
        "validation_size = int(len(df) * 0.25)\n",
        "train_df = df.iloc[0:train_size, :]\n",
        "validation_df = df.iloc[train_size:train_size + validation_size, :]\n",
        "test_df = df.iloc[train_size + validation_size:len(df), :]\n"
      ]
    },
    {
      "cell_type": "code",
      "execution_count": 65,
      "metadata": {
        "id": "2i5pB6SGT5Dy"
      },
      "outputs": [],
      "source": [
        "scaler = MinMaxScaler()\n",
        "\n",
        "scaler.fit(train_df)\n",
        "\n",
        "train = pd.DataFrame(scaler.transform(train_df), columns=['High', 'Low', 'Open', 'Close', 'Adj Close'], index=train_df.index)\n",
        "test = pd.DataFrame(scaler.transform(test_df), columns=['High', 'Low', 'Open', 'Close', 'Adj Close'], index=test_df.index)\n",
        "validation = pd.DataFrame(scaler.transform(validation_df), columns=['High', 'Low', 'Open', 'Close', 'Adj Close'], index=validation_df.index)"
      ]
    },
    {
      "cell_type": "code",
      "execution_count": 66,
      "metadata": {
        "id": "Gq-XqpwXW-Mp"
      },
      "outputs": [],
      "source": [
        "def create_dataset(dataset, window_size=1):\n",
        "    data_x, data_y = [], []\n",
        "    for i in range(len(dataset) - window_size - 1):\n",
        "        window = dataset.iloc[i:(i + window_size), 0]\n",
        "        target = dataset.iloc[i + window_size, 0]\n",
        "        data_x.append(window)\n",
        "        data_y.append(target)\n",
        "    return np.array(data_x), np.array(data_y)\n",
        "\n",
        "window_size = 10\n",
        "\n",
        "X_train, y_train = create_dataset(train, window_size)\n",
        "X_validation, y_validation = create_dataset(validation, window_size)\n",
        "X_test, y_test = create_dataset(test, window_size)\n",
        "\n",
        "X_train = np.reshape(X_train, (X_train.shape[0], 1, X_train.shape[1]))\n",
        "X_validation = np.reshape(X_validation, (X_validation.shape[0], 1, X_validation.shape[1]))\n",
        "X_test = np.reshape(X_test, (X_test.shape[0], 1, X_test.shape[1]))"
      ]
    },
    {
      "cell_type": "markdown",
      "metadata": {
        "id": "x_zgOvAoZt01"
      },
      "source": [
        "## **Building SimpleRNN Model**"
      ]
    },
    {
      "cell_type": "code",
      "execution_count": 67,
      "metadata": {
        "id": "x9TFS5xRZKB2",
        "colab": {
          "base_uri": "https://localhost:8080/"
        },
        "outputId": "a3886bde-19c8-4a1c-cfb0-30f5aa91b801"
      },
      "outputs": [
        {
          "output_type": "stream",
          "name": "stdout",
          "text": [
            "Model: \"sequential_10\"\n",
            "_________________________________________________________________\n",
            " Layer (type)                Output Shape              Param #   \n",
            "=================================================================\n",
            " simple_rnn_2 (SimpleRNN)    (None, 10)                210       \n",
            "                                                                 \n",
            " dense_26 (Dense)            (None, 10)                110       \n",
            "                                                                 \n",
            " dense_27 (Dense)            (None, 1)                 11        \n",
            "                                                                 \n",
            "=================================================================\n",
            "Total params: 331 (1.29 KB)\n",
            "Trainable params: 331 (1.29 KB)\n",
            "Non-trainable params: 0 (0.00 Byte)\n",
            "_________________________________________________________________\n"
          ]
        }
      ],
      "source": [
        "model = Sequential()\n",
        "model.add(layers.SimpleRNN(10, input_shape=(1, window_size), activation='relu'))\n",
        "model.add(layers.Dense(10, activation='relu'))\n",
        "model.add(layers.Dense(1))\n",
        "model.compile(optimizer='adam', loss='mean_squared_error')\n",
        "model.summary()"
      ]
    },
    {
      "cell_type": "code",
      "execution_count": 68,
      "metadata": {
        "id": "SVqKSZYadaEs",
        "colab": {
          "base_uri": "https://localhost:8080/"
        },
        "outputId": "8658f14b-f8d8-44d9-d8ef-b4a9290519a3"
      },
      "outputs": [
        {
          "output_type": "stream",
          "name": "stdout",
          "text": [
            "29/29 [==============================] - 2s 3ms/step - loss: 0.2621\n",
            "14/14 [==============================] - 0s 2ms/step\n",
            "Model Accuracy:  -33.31111574805484\n"
          ]
        }
      ],
      "source": [
        "model.fit(X_train, y_train)\n",
        "\n",
        "validation_pred = model.predict(X_validation)\n",
        "\n",
        "print('Model Accuracy: ', r2_score(y_validation, validation_pred))"
      ]
    },
    {
      "cell_type": "markdown",
      "metadata": {
        "id": "4MDA3Bqxf6Gj"
      },
      "source": [
        "## **LSTM Model**"
      ]
    },
    {
      "cell_type": "code",
      "execution_count": 69,
      "metadata": {
        "id": "d2S6hc1yfm_J",
        "colab": {
          "base_uri": "https://localhost:8080/"
        },
        "outputId": "86c1b550-ac78-48a1-875f-19d31299c12f"
      },
      "outputs": [
        {
          "output_type": "stream",
          "name": "stdout",
          "text": [
            "Model: \"sequential_11\"\n",
            "_________________________________________________________________\n",
            " Layer (type)                Output Shape              Param #   \n",
            "=================================================================\n",
            " lstm_8 (LSTM)               (None, 10)                840       \n",
            "                                                                 \n",
            " dense_28 (Dense)            (None, 10)                110       \n",
            "                                                                 \n",
            " dense_29 (Dense)            (None, 1)                 11        \n",
            "                                                                 \n",
            "=================================================================\n",
            "Total params: 961 (3.75 KB)\n",
            "Trainable params: 961 (3.75 KB)\n",
            "Non-trainable params: 0 (0.00 Byte)\n",
            "_________________________________________________________________\n",
            "29/29 [==============================] - 2s 3ms/step - loss: 0.2161\n",
            "14/14 [==============================] - 0s 3ms/step\n",
            "Accuracy on LSTM Model -32.14149538246691\n"
          ]
        }
      ],
      "source": [
        "model = Sequential()\n",
        "model.add(layers.LSTM(10, input_shape=(1, window_size), activation='relu'))\n",
        "model.add(layers.Dense(10, activation='relu'))\n",
        "model.add(layers.Dense(1))\n",
        "model.compile(optimizer='adam', loss='mean_squared_error')\n",
        "model.summary()\n",
        "\n",
        "model.fit(X_train, y_train)\n",
        "validation_pred_LSTM = model.predict(X_validation)\n",
        "\n",
        "print('Accuracy on LSTM Model', r2_score(y_validation, validation_pred_LSTM))"
      ]
    },
    {
      "cell_type": "markdown",
      "metadata": {
        "id": "v2_LAfMuirVq"
      },
      "source": [
        "## **Added Convolutional Layer**"
      ]
    },
    {
      "cell_type": "code",
      "execution_count": 70,
      "metadata": {
        "id": "8noVbWcKl278",
        "colab": {
          "base_uri": "https://localhost:8080/"
        },
        "outputId": "c27ca6d7-b89d-4194-f8c8-630959292f5e"
      },
      "outputs": [
        {
          "output_type": "stream",
          "name": "stdout",
          "text": [
            "Model: \"sequential_12\"\n",
            "_________________________________________________________________\n",
            " Layer (type)                Output Shape              Param #   \n",
            "=================================================================\n",
            " conv1d_6 (Conv1D)           (None, 1, 64)             704       \n",
            "                                                                 \n",
            " lstm_9 (LSTM)               (None, 10)                3000      \n",
            "                                                                 \n",
            " dense_30 (Dense)            (None, 10)                110       \n",
            "                                                                 \n",
            " dense_31 (Dense)            (None, 1)                 11        \n",
            "                                                                 \n",
            "=================================================================\n",
            "Total params: 3825 (14.94 KB)\n",
            "Trainable params: 3825 (14.94 KB)\n",
            "Non-trainable params: 0 (0.00 Byte)\n",
            "_________________________________________________________________\n",
            "29/29 [==============================] - 3s 3ms/step - loss: 0.1817\n",
            "14/14 [==============================] - 0s 2ms/step\n",
            "Accuracy on LSTM Model -12.380473800532327\n"
          ]
        }
      ],
      "source": [
        "model = Sequential()\n",
        "model.add(layers.Conv1D(64, 1, activation='relu', input_shape=(1, window_size)))\n",
        "model.add(tf.keras.layers.MaxPooling1D(1))\n",
        "model.add(layers.LSTM(10, input_shape=(1, window_size), activation='relu'))\n",
        "model.add(layers.Dense(10, activation='relu'))\n",
        "model.add(layers.Dense(1))\n",
        "model.compile(optimizer='adam', loss='mean_squared_error')\n",
        "model.summary()\n",
        "\n",
        "model.fit(X_train, y_train)\n",
        "validation_pred_LSTM = model.predict(X_validation)\n",
        "\n",
        "print('Accuracy on LSTM Model', r2_score(y_validation, validation_pred_LSTM))"
      ]
    },
    {
      "cell_type": "markdown",
      "metadata": {
        "id": "kVk7rDnI2NNL"
      },
      "source": [
        "## **Optimized Recurrent Convolutional Model**"
      ]
    },
    {
      "cell_type": "code",
      "source": [
        "# Build the model\n",
        "model = tf.keras.Sequential()\n",
        "model.add(tf.keras.layers.Conv1D(128, 1, activation=\"relu\", input_shape=(1, window_size)))\n",
        "model.add(tf.keras.layers.MaxPooling1D(1))\n",
        "model.add(tf.keras.layers.LSTM(64, activation='relu'))\n",
        "model.add(tf.keras.layers.Dense(32, activation='relu'))\n",
        "model.add(tf.keras.layers.Dense(16, activation='relu'))\n",
        "model.add(tf.keras.layers.Dense(8, activation='relu'))\n",
        "model.add(tf.keras.layers.Dense(1))\n",
        "model.compile(optimizer='adam', loss='mean_squared_error')\n",
        "model.summary()\n",
        "\n",
        "# Train the model\n",
        "model.fit(X_train, y_train, epochs=50)\n",
        "\n",
        "# Make predictions and evaluate\n",
        "y_pred = model.predict(X_validation)\n",
        "print(f\"\\nR-Squared value on validation set: {r2_score(y_validation, y_pred)}\")"
      ],
      "metadata": {
        "colab": {
          "base_uri": "https://localhost:8080/"
        },
        "id": "vJw7vZXkkJeG",
        "outputId": "b1cbd028-9b27-4737-d6e0-fac2e2ee6976"
      },
      "execution_count": 76,
      "outputs": [
        {
          "output_type": "stream",
          "name": "stdout",
          "text": [
            "Model: \"sequential_17\"\n",
            "_________________________________________________________________\n",
            " Layer (type)                Output Shape              Param #   \n",
            "=================================================================\n",
            " conv1d_11 (Conv1D)          (None, 1, 128)            1408      \n",
            "                                                                 \n",
            " max_pooling1d_6 (MaxPoolin  (None, 1, 128)            0         \n",
            " g1D)                                                            \n",
            "                                                                 \n",
            " lstm_14 (LSTM)              (None, 64)                49408     \n",
            "                                                                 \n",
            " dense_45 (Dense)            (None, 32)                2080      \n",
            "                                                                 \n",
            " dense_46 (Dense)            (None, 16)                528       \n",
            "                                                                 \n",
            " dense_47 (Dense)            (None, 8)                 136       \n",
            "                                                                 \n",
            " dense_48 (Dense)            (None, 1)                 9         \n",
            "                                                                 \n",
            "=================================================================\n",
            "Total params: 53569 (209.25 KB)\n",
            "Trainable params: 53569 (209.25 KB)\n",
            "Non-trainable params: 0 (0.00 Byte)\n",
            "_________________________________________________________________\n",
            "Epoch 1/50\n",
            "29/29 [==============================] - 2s 4ms/step - loss: 0.2218\n",
            "Epoch 2/50\n",
            "29/29 [==============================] - 0s 4ms/step - loss: 0.0143\n",
            "Epoch 3/50\n",
            "29/29 [==============================] - 0s 4ms/step - loss: 0.0038\n",
            "Epoch 4/50\n",
            "29/29 [==============================] - 0s 4ms/step - loss: 0.0017\n",
            "Epoch 5/50\n",
            "29/29 [==============================] - 0s 4ms/step - loss: 9.6649e-04\n",
            "Epoch 6/50\n",
            "29/29 [==============================] - 0s 4ms/step - loss: 6.8771e-04\n",
            "Epoch 7/50\n",
            "29/29 [==============================] - 0s 4ms/step - loss: 6.2681e-04\n",
            "Epoch 8/50\n",
            "29/29 [==============================] - 0s 4ms/step - loss: 5.5638e-04\n",
            "Epoch 9/50\n",
            "29/29 [==============================] - 0s 4ms/step - loss: 5.2487e-04\n",
            "Epoch 10/50\n",
            "29/29 [==============================] - 0s 4ms/step - loss: 5.3587e-04\n",
            "Epoch 11/50\n",
            "29/29 [==============================] - 0s 4ms/step - loss: 4.5100e-04\n",
            "Epoch 12/50\n",
            "29/29 [==============================] - 0s 4ms/step - loss: 4.4079e-04\n",
            "Epoch 13/50\n",
            "29/29 [==============================] - 0s 4ms/step - loss: 4.2682e-04\n",
            "Epoch 14/50\n",
            "29/29 [==============================] - 0s 4ms/step - loss: 4.4893e-04\n",
            "Epoch 15/50\n",
            "29/29 [==============================] - 0s 4ms/step - loss: 4.6401e-04\n",
            "Epoch 16/50\n",
            "29/29 [==============================] - 0s 5ms/step - loss: 4.4950e-04\n",
            "Epoch 17/50\n",
            "29/29 [==============================] - 0s 4ms/step - loss: 4.3493e-04\n",
            "Epoch 18/50\n",
            "29/29 [==============================] - 0s 4ms/step - loss: 3.7879e-04\n",
            "Epoch 19/50\n",
            "29/29 [==============================] - 0s 4ms/step - loss: 3.5192e-04\n",
            "Epoch 20/50\n",
            "29/29 [==============================] - 0s 4ms/step - loss: 3.2689e-04\n",
            "Epoch 21/50\n",
            "29/29 [==============================] - 0s 3ms/step - loss: 3.0501e-04\n",
            "Epoch 22/50\n",
            "29/29 [==============================] - 0s 5ms/step - loss: 2.8219e-04\n",
            "Epoch 23/50\n",
            "29/29 [==============================] - 0s 7ms/step - loss: 2.6998e-04\n",
            "Epoch 24/50\n",
            "29/29 [==============================] - 0s 6ms/step - loss: 2.7558e-04\n",
            "Epoch 25/50\n",
            "29/29 [==============================] - 0s 6ms/step - loss: 2.6570e-04\n",
            "Epoch 26/50\n",
            "29/29 [==============================] - 0s 6ms/step - loss: 2.5394e-04\n",
            "Epoch 27/50\n",
            "29/29 [==============================] - 0s 6ms/step - loss: 2.2754e-04\n",
            "Epoch 28/50\n",
            "29/29 [==============================] - 0s 6ms/step - loss: 2.6253e-04\n",
            "Epoch 29/50\n",
            "29/29 [==============================] - 0s 7ms/step - loss: 3.1101e-04\n",
            "Epoch 30/50\n",
            "29/29 [==============================] - 0s 6ms/step - loss: 3.2508e-04\n",
            "Epoch 31/50\n",
            "29/29 [==============================] - 0s 6ms/step - loss: 2.0684e-04\n",
            "Epoch 32/50\n",
            "29/29 [==============================] - 0s 7ms/step - loss: 2.0746e-04\n",
            "Epoch 33/50\n",
            "29/29 [==============================] - 0s 6ms/step - loss: 2.0959e-04\n",
            "Epoch 34/50\n",
            "29/29 [==============================] - 0s 7ms/step - loss: 2.3554e-04\n",
            "Epoch 35/50\n",
            "29/29 [==============================] - 0s 7ms/step - loss: 2.4791e-04\n",
            "Epoch 36/50\n",
            "29/29 [==============================] - 0s 7ms/step - loss: 2.2595e-04\n",
            "Epoch 37/50\n",
            "29/29 [==============================] - 0s 4ms/step - loss: 2.1966e-04\n",
            "Epoch 38/50\n",
            "29/29 [==============================] - 0s 4ms/step - loss: 4.3869e-04\n",
            "Epoch 39/50\n",
            "29/29 [==============================] - 0s 4ms/step - loss: 3.8203e-04\n",
            "Epoch 40/50\n",
            "29/29 [==============================] - 0s 4ms/step - loss: 2.2319e-04\n",
            "Epoch 41/50\n",
            "29/29 [==============================] - 0s 4ms/step - loss: 2.0218e-04\n",
            "Epoch 42/50\n",
            "29/29 [==============================] - 0s 4ms/step - loss: 2.1096e-04\n",
            "Epoch 43/50\n",
            "29/29 [==============================] - 0s 4ms/step - loss: 2.0899e-04\n",
            "Epoch 44/50\n",
            "29/29 [==============================] - 0s 5ms/step - loss: 2.0702e-04\n",
            "Epoch 45/50\n",
            "29/29 [==============================] - 0s 4ms/step - loss: 2.0101e-04\n",
            "Epoch 46/50\n",
            "29/29 [==============================] - 0s 4ms/step - loss: 2.9266e-04\n",
            "Epoch 47/50\n",
            "29/29 [==============================] - 0s 5ms/step - loss: 1.8194e-04\n",
            "Epoch 48/50\n",
            "29/29 [==============================] - 0s 4ms/step - loss: 2.2281e-04\n",
            "Epoch 49/50\n",
            "29/29 [==============================] - 0s 5ms/step - loss: 1.9347e-04\n",
            "Epoch 50/50\n",
            "29/29 [==============================] - 0s 4ms/step - loss: 1.7712e-04\n",
            "14/14 [==============================] - 0s 2ms/step\n",
            "\n",
            "R-Squared value on validation set: 0.9664378411074154\n"
          ]
        }
      ]
    },
    {
      "cell_type": "markdown",
      "source": [
        "## **Evaluation of Model**"
      ],
      "metadata": {
        "id": "3ADESeP9ge8S"
      }
    },
    {
      "cell_type": "code",
      "execution_count": 77,
      "metadata": {
        "colab": {
          "base_uri": "https://localhost:8080/"
        },
        "id": "XKFZNzIYoPhC",
        "outputId": "089fe6ae-bdc5-4353-f71a-916b411454b2"
      },
      "outputs": [
        {
          "output_type": "stream",
          "name": "stdout",
          "text": [
            "29/29 [==============================] - 0s 3ms/step\n",
            "14/14 [==============================] - 0s 4ms/step\n",
            "14/14 [==============================] - 0s 4ms/step\n",
            "0.9973071905795321  --> Training Set\n",
            "0.9664378411074154  --> Validation Set\n",
            "0.9453075708693033  --> Test Set\n"
          ]
        }
      ],
      "source": [
        "# Make predictions on all three sets\n",
        "train_pred = model.predict(X_train)\n",
        "validation_pred = model.predict(X_validation)\n",
        "test_pred = model.predict(X_test)\n",
        "\n",
        "print(r2_score(y_train, train_pred), \" --> Training Set\")\n",
        "print(r2_score(y_validation, validation_pred), \" --> Validation Set\")\n",
        "print(r2_score(y_test, test_pred), \" --> Test Set\")"
      ]
    },
    {
      "cell_type": "markdown",
      "source": [
        "**We have achieved 94% accuracy in Test Dataset.**"
      ],
      "metadata": {
        "id": "RRI-X4JJlEL6"
      }
    }
  ],
  "metadata": {
    "colab": {
      "provenance": []
    },
    "kernelspec": {
      "display_name": "Python 3",
      "name": "python3"
    },
    "language_info": {
      "name": "python"
    }
  },
  "nbformat": 4,
  "nbformat_minor": 0
}